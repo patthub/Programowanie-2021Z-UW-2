{
  "nbformat": 4,
  "nbformat_minor": 0,
  "metadata": {
    "colab": {
      "name": "Programowanie - zajęcia zaległe",
      "provenance": []
    },
    "kernelspec": {
      "name": "python3",
      "display_name": "Python 3"
    },
    "language_info": {
      "name": "python"
    }
  },
  "cells": [
    {
      "cell_type": "markdown",
      "source": [
        "# Tworzenie własnego modelu NER opartego o wyrażenia regularne i pattern matching"
      ],
      "metadata": {
        "id": "CY2JeuCwwViR"
      }
    },
    {
      "cell_type": "markdown",
      "source": [
        "Instalacja pakietów spaCy"
      ],
      "metadata": {
        "id": "OCjfkJCbwOQM"
      }
    },
    {
      "cell_type": "code",
      "source": [
        "!pip install spacy -U \n",
        "#!python -m spacy download pl_core_news_lg\n",
        "#nie musimy pobierać modelu językowego dla polskiego, w tym przypadku tworzymy model \"od zera\""
      ],
      "metadata": {
        "id": "6_oZfAWwwS0f"
      },
      "execution_count": null,
      "outputs": []
    },
    {
      "cell_type": "markdown",
      "source": [
        "Po instalacji należy zrestartować środowisko wykonawcze"
      ],
      "metadata": {
        "id": "fpsOx_hrwgR1"
      }
    },
    {
      "cell_type": "code",
      "source": [
        "import spacy\n",
        "import regex as re\n",
        "import pandas as pd\n",
        "import numpy as np\n",
        "from tqdm import tqdm\n",
        "\n"
      ],
      "metadata": {
        "id": "22OlTPWswivY"
      },
      "execution_count": 1,
      "outputs": []
    },
    {
      "cell_type": "markdown",
      "source": [
        "Załóżmy, że chcemy wykorzystać bibliotekę SpaCy do wykrywania oraz identyfikowanianumeru telefonu w tekście. \n",
        "\n",
        "Tekst: Nazywam się Jan Kowalski i mój numer telefonu to 123456789\n",
        "\n",
        "Możemy do tego wykorzystać standardową bibliotekę regex oraz wyrażenia regularne:"
      ],
      "metadata": {
        "id": "gPfuDZtXyXJI"
      }
    },
    {
      "cell_type": "code",
      "source": [
        "tekst = \"Nazywam się Jan Kowalski i mój numer telefonu to 123456789\"\n",
        "\n",
        "pattern = \"\\d{9}\"\n",
        "\n",
        "re.findall(pattern, tekst)"
      ],
      "metadata": {
        "colab": {
          "base_uri": "https://localhost:8080/"
        },
        "id": "04wSwWMcySie",
        "outputId": "56ba2ad8-6072-4b0b-a16b-dda730861f17"
      },
      "execution_count": 2,
      "outputs": [
        {
          "output_type": "execute_result",
          "data": {
            "text/plain": [
              "['123456789']"
            ]
          },
          "metadata": {},
          "execution_count": 2
        }
      ]
    },
    {
      "cell_type": "markdown",
      "source": [
        "Tworząc zmienną pattern, do której przekazaliśmy nasze wyrażenie regularne oraz wykorzystując funkcję findall z pakietu regex, poprawnie wykryliśmy numer telefonu w tekście. Co jednak, jeśli chcemy do tego wykorzystać bibliotekę SpaCy oraz idące za nią dodatkowe informacje (m.in cechy morfosyntaktyczne) o tekście? W tym celu wykorzystamy mechanizm nazywany przez twórców biblioteki jako **Entity Ruler**"
      ],
      "metadata": {
        "id": "rqoh3mq7zMrC"
      }
    },
    {
      "cell_type": "code",
      "source": [
        "#Entity Ruler budujemy na PUSTYM MODELU językowym. Aby go wczytać, wykorzystujemy następującą formułę:\n",
        "\n",
        "nlp = spacy.blank(\"pl\")\n",
        "\n",
        "#ISTOTNA INFORMACJA - pusty model muszą przyporządkować Państwo do zmiennej o innej nazwie,\n",
        "#niż zmienna przechowująca model dla języka polskiego.\n",
        "\n",
        "#Metoda blank tworzy \"pusty model\", w tym przypadku dla języka polskiego (argument) i przypisuje go do zmiennej nlp"
      ],
      "metadata": {
        "id": "w8caR6etzi3g"
      },
      "execution_count": 3,
      "outputs": []
    },
    {
      "cell_type": "code",
      "source": [
        "#Następnie tworzymy obiekt klasy Ruler, który pozwala na przystosowanie modelu do naszych potrzeb\n",
        "\n",
        "ruler = nlp.add_pipe(\"entity_ruler\")\n",
        "\n",
        "#W tym celu, tworząc zmienną \"ruler\" (może być ona oczywiście dowolnej nazwy) dodajemy do naszego pustego modelu \n",
        "#element pipelinu (potoku przetwarzania danych) element o nazwie \"enttity_ruler\", czyli moduł odpowiedzialny \n",
        "#za wykrywanie jednostek nazewniczych"
      ],
      "metadata": {
        "id": "iFLSIFX1o7D2"
      },
      "execution_count": 4,
      "outputs": []
    },
    {
      "cell_type": "code",
      "source": [
        "#Następnie, tworzymy zmienną o nazwie patterns, w której przechowywać będziemy wzorce Regex dla interesujących nas elementów tekstu. \n",
        "\n",
        "\n",
        "patterns = [\n",
        "                {\n",
        "                    \"label\": \"NUMER_TELEFONU\", \"pattern\": [{\"TEXT\": {\"REGEX\": pattern}}\n",
        "                                                        ]\n",
        "                }\n",
        "            ]\n",
        "\n",
        "#Struktura obiektu przechowującego jest następująca:\n",
        "#1. Pierwszy poziom to lista (cała zmienna patterns jest klasy list)\n",
        "#2. Do listy \"patterns\" przekazujemy obiekt (bądź obiekty) klasy dict (słowniki)\n",
        "#3. Każdy słownik składa się z dwóch par klucz:wartość\n",
        "#4. Pierwsza para zawiera informację o etykiecie (label) dla naszej jednostki nazewniczej - w tym przypadku jest to \"label\": \"TELEFON\"\n",
        "#5. Druga para zawiera wzorzec, który spełniać będzie stworzony przez nas warunek - \"pattern\": \n",
        "#6. Druga para składa się z klucza \"pattern\" oraz wartości w postaci listy słowników - [{\"TEXT\": {\"REGEX\": pattern}}]                                                       \n",
        "#7. Do tej wartości przekazujemy słownik z kluczem REGEX oraz wartością w postaci właściwego wyrażenia regularnego, w tym przypadku wartością jest nasz regex\n",
        "# stworzony wcześniej, który wyciąga nam numer telefonu - pattern = \"\\d{9}\"\n",
        "\n",
        "#Zbudowałem dla Państwa zmienną patterns w ten sposób, aby w łatwy sposób można było ją modyfikować - wystarczy jedynie zmienić wyrażenie regularne\n",
        "#w zmiennej pattern, aby cały \"wzorzec\" uległ zmianie.\n",
        "\n",
        "\n",
        "\n"
      ],
      "metadata": {
        "id": "giua10oFpTo1"
      },
      "execution_count": 7,
      "outputs": []
    },
    {
      "cell_type": "code",
      "source": [
        "#Następnie do naszego rulera za pomocą metody .add_patterns przekazujemy naszą zmienną patterns zawierającą nasze wzorce\n",
        "ruler.add_patterns(patterns)\n",
        "\n",
        "#W ten sposób przygotowaliśmy nasz model, pozostaje nam sprawdzić jego działanie (w taki sam sposób, jak każdy inny model SpaCy)\n",
        "\n",
        "#UWAGA! Jeśli będą Państwo eksperymentować z różnymi wzorcami, lepiej za każdym razem \n",
        "#uruchamiać cały kod nowa (od momentu stworzenia zmiennej nlp z pustym modelem dla języka polskiego).\n",
        "#Różne stworzone przez Państwa wzorce mogą się na siebie nakładać, co powodować może błędy!!!!\n",
        "\n",
        "#Dokumentacja z wykorzystaniem modułu znajduje się tutaj: https://spacy.io/usage/rule-based-matching"
      ],
      "metadata": {
        "id": "ZbmbGFDNtydH"
      },
      "execution_count": 9,
      "outputs": []
    },
    {
      "cell_type": "code",
      "source": [
        "doc = nlp(\"Nazywam się Jan Kowalski i mój numer telefonu to 123456789\")"
      ],
      "metadata": {
        "id": "dWxs7zbwuK73"
      },
      "execution_count": 10,
      "outputs": []
    },
    {
      "cell_type": "code",
      "source": [
        "for ent in doc.ents:\n",
        "  print(ent.text, ent.label_)"
      ],
      "metadata": {
        "colab": {
          "base_uri": "https://localhost:8080/"
        },
        "id": "KiN0mX1fTlLp",
        "outputId": "a49cebe3-1dca-487d-fd4c-36821514ce3c"
      },
      "execution_count": 12,
      "outputs": [
        {
          "output_type": "stream",
          "name": "stdout",
          "text": [
            "123456789 PHONE_NUMBER\n"
          ]
        }
      ]
    }
  ]
}